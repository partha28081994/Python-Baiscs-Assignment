{
 "cells": [
  {
   "cell_type": "code",
   "execution_count": null,
   "id": "134f453a-0a0f-4ea5-8e80-8c4c748b5dde",
   "metadata": {},
   "outputs": [],
   "source": [
    "#First Assignment : Python Baiscs Assignment"
   ]
  },
  {
   "cell_type": "code",
   "execution_count": 2,
   "id": "94c95312-167b-48c8-b7c6-39125de9a8ca",
   "metadata": {},
   "outputs": [],
   "source": [
    "# Q1.Explain the key features of Python that make it a popular choice for programming."
   ]
  },
  {
   "cell_type": "code",
   "execution_count": 4,
   "id": "ec787688-af63-44f2-bcff-4657ecc8c3a2",
   "metadata": {},
   "outputs": [
    {
     "data": {
      "text/plain": [
       "'Ans1 : Following are some key features of Python that makes it popular choice for programming:\\n1) Easy to read and write : The syntex of Python is extremely simple which makes us to read and write python codes easily. For example the print word in our daily life is used to take a print out of text and images on a paper and show us. Similarly the print function in Python is used to show us the parameters given to it in text format.\\n2) Dynamic: In languages like C or ++, we need to declare variable types explicitly. But Python determines the type of a variable at runtime, which makes coding faster and simpler, especially for new developers.\\nExample: x = 3 . Here Python automatically knows x is an integer. Hence code writing is faster in Python.\\n3) Versatile and Multi-Paradigm: Python supports multiple programming paradigms, including object-oriented, and functional programming which allows developers to choose the best approach for a given problem.\\n4) Extensive Standard Library : Python comes with a vast standard library that includes modules and packages for handling tasks such as file I/O, regular expressions, database access, networking, and more.\\n5) Rich Ecosystem and Community Support : Python has a huge ecosystem of libraries and frameworks, such as NumPy, Pandas, Django, and Flask, that extend its capabilities in data analysis, web development, machine learning, and more.\\nThe strong community support means there are plenty of resources, tutorials, and documentation available, making it easier to learn and troubleshoot issues.'"
      ]
     },
     "execution_count": 4,
     "metadata": {},
     "output_type": "execute_result"
    }
   ],
   "source": [
    "\"\"\"Ans1 : Following are some key features of Python that makes it popular choice for programming:\n",
    "1) Easy to read and write : The syntex of Python is extremely simple which makes us to read and write python codes easily. For example the print word in our daily life is used to take a print out of text and images on a paper and show us. Similarly the print function in Python is used to show us the parameters given to it in text format.\n",
    "2) Dynamic: In languages like C or ++, we need to declare variable types explicitly. But Python determines the type of a variable at runtime, which makes coding faster and simpler, especially for new developers.\n",
    "Example: x = 3 . Here Python automatically knows x is an integer. Hence code writing is faster in Python.\n",
    "3) Versatile and Multi-Paradigm: Python supports multiple programming paradigms, including object-oriented, and functional programming which allows developers to choose the best approach for a given problem.\n",
    "4) Extensive Standard Library : Python comes with a vast standard library that includes modules and packages for handling tasks such as file I/O, regular expressions, database access, networking, and more.\n",
    "5) Rich Ecosystem and Community Support : Python has a huge ecosystem of libraries and frameworks, such as NumPy, Pandas, Django, and Flask, that extend its capabilities in data analysis, web development, machine learning, and more.\n",
    "The strong community support means there are plenty of resources, tutorials, and documentation available, making it easier to learn and troubleshoot issues.\"\"\"\n"
   ]
  },
  {
   "cell_type": "code",
   "execution_count": 5,
   "id": "1ae5534e-9814-4c31-88b2-7a72b86bf2c9",
   "metadata": {},
   "outputs": [],
   "source": [
    "# Q2.Desc$ibe the role of predefined keywords in Python and provide examples of how they are used in a program"
   ]
  },
  {
   "cell_type": "code",
   "execution_count": 6,
   "id": "e1be726c-df05-4add-a842-a6832a3c0ecf",
   "metadata": {},
   "outputs": [
    {
     "data": {
      "text/plain": [
       "\"Predefined keywords in Python are reserved words that have specific meanings and purposes within the language. These keywords are essential for defining the structure and behavior of Python programs, as they form the syntax and control flow of the language. Since they are reserved, you cannot use them as identifiers (such as variable names) in our program.\\n\\nKeywords help Python identify the purpose of each part of the code and determine how to execute it. They are used to:\\n\\nDefine control flow: Keywords like if, else, while, for, and break control the program's execution path.\\nDefine functions and classes: Keywords like def and class are used to create functions and classes.\\nHandle exceptions: Keywords like try, except, finally, and raise manage errors and exceptions.\\nManipulate values and types: Keywords such as True, False, None, and is help manage Boolean values, null values, and comparisons.\\nManage scope: Keywords like global and nonlocal define the scope of variables.\""
      ]
     },
     "execution_count": 6,
     "metadata": {},
     "output_type": "execute_result"
    }
   ],
   "source": [
    "\"\"\"Ans2: Predefined keywords in Python are reserved words that have specific meanings and purposes within the language. These keywords are essential for defining the structure and behavior of Python programs, as they form the syntax and control flow of the language. Since they are reserved, we cannot use them as identifiers (such as variable names) in our program.\n",
    "\n",
    "Keywords help Python identify the purpose of each part of the code and determine how to execute it. They are used to:\n",
    "\n",
    "Define control flow: Keywords like if, else, while, for, and break control the program's execution path.\n",
    "Define functions and classes: Keywords like def and class are used to create functions and classes.\n",
    "Handle exceptions: Keywords like try, except, finally, and raise manage errors and exceptions.\n",
    "Manipulate values and types: Keywords such as True, False, None, and is help manage Boolean values, null values, and comparisons.\n",
    "Manage scope: Keywords like global and nonlocal define the scope of variables.\"\"\""
   ]
  },
  {
   "cell_type": "code",
   "execution_count": 7,
   "id": "0528132f-9129-42be-ad35-8d8d4922ce72",
   "metadata": {},
   "outputs": [],
   "source": [
    "# Q3. Compare and contrast mutable and immutable ob\f",
    "ejcts in Python with examples"
   ]
  },
  {
   "cell_type": "code",
   "execution_count": 14,
   "id": "5d8ae32d-af85-462d-8df7-d0a4fd9b8c72",
   "metadata": {},
   "outputs": [
    {
     "name": "stdout",
     "output_type": "stream",
     "text": [
      "['A', 'B', 'C']\n",
      "['D', 'B', 'C']\n",
      "('A', 'B', 'C')\n"
     ]
    },
    {
     "ename": "TypeError",
     "evalue": "'tuple' object does not support item assignment",
     "output_type": "error",
     "traceback": [
      "\u001b[0;31m---------------------------------------------------------------------------\u001b[0m",
      "\u001b[0;31mTypeError\u001b[0m                                 Traceback (most recent call last)",
      "Cell \u001b[0;32mIn[14], line 26\u001b[0m\n\u001b[1;32m     23\u001b[0m \u001b[38;5;28mprint\u001b[39m(person)\n\u001b[1;32m     25\u001b[0m \u001b[38;5;66;03m# This person is a tuple. Now we can't chage the peson A and replace it with person D in the same person tuple\u001b[39;00m\n\u001b[0;32m---> 26\u001b[0m \u001b[43mperson\u001b[49m\u001b[43m[\u001b[49m\u001b[38;5;241;43m0\u001b[39;49m\u001b[43m]\u001b[49m \u001b[38;5;241m=\u001b[39m \u001b[38;5;124m\"\u001b[39m\u001b[38;5;124mD\u001b[39m\u001b[38;5;124m\"\u001b[39m\n\u001b[1;32m     27\u001b[0m \u001b[38;5;28mprint\u001b[39m(person)\n\u001b[1;32m     28\u001b[0m \u001b[38;5;66;03m# This will throw error because tuple is immutable\u001b[39;00m\n",
      "\u001b[0;31mTypeError\u001b[0m: 'tuple' object does not support item assignment"
     ]
    }
   ],
   "source": [
    "\"\"\"Ans3: In Python, mutable and immutable objects refer to whether an object's value can be changed after it is created. Here’s a comparison between the two with examples to clarify each concept:\n",
    "\n",
    "1. Mutable Objects\n",
    "Definition: Mutable objects can be modified after they are created. This means that elements within these objects can be changed, added, or removed without creating a new object.\n",
    "\n",
    "Examples of Mutable Objects in Python: Lists,Dictionaries,Sets.\n",
    "\n",
    "For eg :\"\"\"\n",
    "person = [\"A\",\"B\",\"C\"]\n",
    "print(person)\n",
    "\n",
    "# now we can chage the peson A and replace it with person D in the same person list\n",
    "person[0] = \"D\"\n",
    "print(person)\n",
    "# Hence list is mutable\n",
    "\n",
    "\"\"\"2. Immutable Objects\n",
    "Definition: Immutable objects cannot be modified after they are created. Any operation that appears to modify an immutable object will instead create a new object with the updated value.\n",
    "\n",
    "Examples of Immutable Objects in Python: Integers,Floats,Strings,Tuples.\n",
    "For eg:\"\"\"\n",
    "person = (\"A\",\"B\",\"C\")\n",
    "print(person)\n",
    "\n",
    "# This person is a tuple. Now we can't chage the peson A and replace it with person D in the same person tuple\n",
    "person[0] = \"D\"\n",
    "print(person)\n",
    "# This will throw error because tuple is immutable"
   ]
  },
  {
   "cell_type": "code",
   "execution_count": null,
   "id": "c8cb5a92-e85f-4682-974d-8e08c5526a8f",
   "metadata": {},
   "outputs": [],
   "source": [
    "# Q4. Discuss the different types of operators in Python and provide examples of how they are used"
   ]
  },
  {
   "cell_type": "code",
   "execution_count": 16,
   "id": "0d453b50-e020-4c07-9ffd-86ffe327c6d4",
   "metadata": {},
   "outputs": [
    {
     "data": {
      "text/plain": [
       "'Ans4: In Python, operators are symbols or keywords that perform operations on variables and values. They can be classified into several types such as \\n1. Arithmetic Operators\\nArithmetic operators are used to perform basic mathematical operations.\\nOperator\\tDescription\\t               Example\\n+\\t           Addition\\t               5 + 3 → 8\\n-\\t           Subtraction\\t          10 - 4 → 6\\n*\\t           Multiplication\\t       7 * 3 → 21\\n/\\t           Division\\t              12 / 3 → 4.0\\n//\\t           Floor Division\\t      15 // 2 → 7\\n%\\t           Modulus\\t              10 % 3 → 1\\n**\\t           Exponentiation\\t       2 ** 3 → 8'"
      ]
     },
     "execution_count": 16,
     "metadata": {},
     "output_type": "execute_result"
    }
   ],
   "source": [
    "\"\"\"Ans4: In Python, operators are symbols or keywords that perform operations on variables and values. They can be classified into several types such as \n",
    "1. Arithmetic Operators\n",
    "Arithmetic operators are used to perform basic mathematical operations.\n",
    "Operator\tDescription\t               Example\n",
    "+\t           Addition\t               5 + 3 → 8\n",
    "-\t           Subtraction\t          10 - 4 → 6\n",
    "*\t           Multiplication\t       7 * 3 → 21\n",
    "/\t           Division\t              12 / 3 → 4.0\n",
    "//\t           Floor Division\t      15 // 2 → 7\n",
    "%\t           Modulus\t              10 % 3 → 1\n",
    "**\t           Exponentiation\t       2 ** 3 → 8\n",
    "\n",
    "2. Comparison Operators\n",
    "Comparison operators compare two values and return a Boolean (True or False).\n",
    "\n",
    "Operator\tDescription\t                     Example\n",
    "==\t          Equal\t                       5 == 5 → True\n",
    "!=\t          Not Equal\t                   5 != 3 → True\n",
    ">\t          Greater Than\t               7 > 3 → True\n",
    "<\t          Less Than\t                   4 < 6 → True\n",
    ">=\t          Greater Than or Equal To\t   5 >= 5 → True\n",
    "<=\t          Less Than or Equal To\t       3 <= 5 → True\n",
    "\n",
    "3. Logical Operators\n",
    "Logical operators are used to combine conditional statements.\n",
    "\n",
    "Operator\t              Description\t                                         Example\n",
    "and\t          Returns True if both statements are true\t                     (5 > 3) and (3 < 7) → True\n",
    "or\t          Returns True if one of the statements is true\t                 (5 > 3) or (3 > 7) → True\n",
    "not\t          Reverses the result, returns False if the result is true\t      not(5 > 3) → False\n",
    "\n",
    "4. Assignment Operators\n",
    "Assignment operators are used to assign values to variables.\n",
    "\n",
    "Operator\tDescription\t                               Example\n",
    "=\t          Assign\t                              x = 5\n",
    "+=\t          Add and assign\t                      x += 3 → x = x + 3\n",
    "-=\t          Subtract and assign\t                  x -= 3 → x = x - 3\n",
    "*=\t          Multiply and assign\t                  x *= 3 → x = x * 3\n",
    "/=\t          Divide and assign\t                      x /= 3 → x = x / 3\n",
    "%=\t          Modulus and assign\t                  x %= 3 → x = x % 3\n",
    "//=\t          Floor divide and assign\t              x //= 3\n",
    "**=\t          Exponent and assign\t                  x **= 3\n",
    "\n",
    "5. Bitwise Operators\n",
    "Bitwise operators work on the binary representations of integers.\n",
    "\n",
    "Operator\tDescription\tExample\n",
    "&\t          Bitwise AND\t5 & 3 → 1\n",
    "|\t          Bitwise OR    5 | 3 → 7\n",
    "^\t          Bitwise XOR\t5 ^ 3 → 6\n",
    "~\t          Bitwise NOT\t~5 → -6\n",
    "<<\t          Left Shift\t5 << 1 → 10\n",
    ">>\t          Right Shift\t5 >> 1 → 2\n",
    "\n",
    "\"\"\""
   ]
  },
  {
   "cell_type": "code",
   "execution_count": 17,
   "id": "9b62e24b-74a4-4d6c-bd68-53f811b6f144",
   "metadata": {},
   "outputs": [],
   "source": [
    "#Q5. Explain the concept of type casting in Python with examples."
   ]
  },
  {
   "cell_type": "code",
   "execution_count": 18,
   "id": "136cabb3-6dc6-4e06-b9da-66c1b3edd3e6",
   "metadata": {},
   "outputs": [
    {
     "name": "stdout",
     "output_type": "stream",
     "text": [
      "15.5\n",
      "<class 'float'>\n",
      "100\n",
      "<class 'str'>\n"
     ]
    }
   ],
   "source": [
    "\"\"\"Ans5: Type casting in Python, also known as type conversion, is the process of converting a variable from one data type to another. Python provides built-in functions for both implicit and explicit type casting.\n",
    "\n",
    "1. Implicit Type Casting\n",
    "In implicit type casting, Python automatically converts one data type to another without any explicit instruction from the programmer. This usually occurs when performing operations where Python determines that it is safe to convert the types to prevent data loss.\n",
    "\n",
    "Example:\"\"\"\n",
    "\n",
    "# Integer and float addition\n",
    "num_int = 10        # Integer\n",
    "num_float = 5.5     # Float\n",
    "\n",
    "result = num_int + num_float  # Implicitly converts `num_int` to float\n",
    "print(result)        # Output: 15.5\n",
    "print(type(result))  # Output: <class 'float'>\n",
    "\"\"\"In this example, num_int is automatically converted to a float before the addition, as adding an integer to a float results in a float.\n",
    "\n",
    "2. Explicit Type Casting\n",
    "In explicit type casting, also known as type coercion, the programmer manually converts one data type to another using specific functions.\n",
    "\n",
    "Common Type Casting Functions in Python\n",
    "Function\tDescription\n",
    "int()\tConverts a value to an integer\n",
    "float()\tConverts a value to a float\n",
    "str()\tConverts a value to a string\n",
    "list()\tConverts a value to a list\n",
    "tuple()\tConverts a value to a tuple\n",
    "set()\tConverts a value to a set\n",
    "\n",
    "For eg, if we want to convert an Integer to String:\"\"\"\n",
    "\n",
    "num = 100\n",
    "num_str = str(num)  # Explicitly casting integer to string\n",
    "print(num_str)      # Output: '100'\n",
    "print(type(num_str))  # Output: <class 'str'>\"\"\""
   ]
  },
  {
   "cell_type": "code",
   "execution_count": 19,
   "id": "2400efa1-2195-4256-a798-74fac99fe2b7",
   "metadata": {},
   "outputs": [],
   "source": [
    "#Q6. How do conditional statements work in Python? Illustrate with examples."
   ]
  },
  {
   "cell_type": "code",
   "execution_count": 23,
   "id": "0ad654e1-6bdb-4e07-b891-3744d09ff5e6",
   "metadata": {},
   "outputs": [
    {
     "name": "stdout",
     "output_type": "stream",
     "text": [
      "You are eligible to vote.\n",
      "You are not eligible to vote.\n",
      "Grade: B\n",
      "You are eligible and registered to vote.\n",
      "You are eligible to enter.\n"
     ]
    },
    {
     "data": {
      "text/plain": [
       "'Here, the condition checks if the person is both 18 or older and has an ID. If both conditions are met, it executes the if block.'"
      ]
     },
     "execution_count": 23,
     "metadata": {},
     "output_type": "execute_result"
    }
   ],
   "source": [
    "\"\"\"Ans6 : In Python, conditional statements are used to execute specific code blocks based on whether a given condition is true or false. Conditional statements primarily involve if, elif, and else keywords, allowing us to create decision-making logic in programs.\n",
    "\n",
    "Types of Conditional Statements in Python\n",
    "if Statement\n",
    "\n",
    "Checks a condition, and if it evaluates to True, the indented code block below it runs.\n",
    "if-else Statement\n",
    "\n",
    "Checks a condition, and if it's True, it executes the code in the if block. If False, it executes the code in the else block.\n",
    "if-elif-else Statement\n",
    "\n",
    "Used when we have multiple conditions to evaluate. Only the first condition that evaluates to True will execute, and the rest are skipped.\n",
    "Nested if Statement\n",
    "\n",
    "You can place an if statement inside another if statement to test additional conditions if the first condition is met.\n",
    "Examples of Conditional Statements\n",
    "1. Simple if Statement\"\"\"\n",
    "\n",
    "age = 18\n",
    "if age >= 18:\n",
    "    print(\"You are eligible to vote.\")\n",
    "# Output: You are eligible to vote.\n",
    "\"\"\"In this example, the condition age >= 18 is checked. If it’s true, the code inside the if block is executed.\n",
    "\n",
    "2. if-else Statement\"\"\"\n",
    "\n",
    "age = 16\n",
    "if age >= 18:\n",
    "    print(\"You are eligible to vote.\")\n",
    "else:\n",
    "    print(\"You are not eligible to vote.\")\n",
    "# Output: You are not eligible to vote.\n",
    "\"\"\"Here, if age >= 18 is True, the if block runs. Otherwise, the else block runs.\n",
    "\n",
    "3. if-elif-else Statement\"\"\"\n",
    "\n",
    "score = 85\n",
    "if score >= 90:\n",
    "    print(\"Grade: A\")\n",
    "elif score >= 80:\n",
    "    print(\"Grade: B\")\n",
    "elif score >= 70:\n",
    "    print(\"Grade: C\")\n",
    "else:\n",
    "    print(\"Grade: D\")\n",
    "# Output: Grade: B\n",
    "\"\"\"In this case:\n",
    "\n",
    "If score is 90 or above, \"Grade: A\" is printed.\n",
    "If score is between 80 and 89, \"Grade: B\" is printed.\n",
    "If score is between 70 and 79, \"Grade: C\" is printed.\n",
    "If none of the conditions are met, \"Grade: D\" is printed by the else block.\n",
    "4. Nested if Statement\"\"\"\n",
    "\n",
    "age = 20\n",
    "is_registered = True\n",
    "\n",
    "if age >= 18:\n",
    "    if is_registered:\n",
    "        print(\"You are eligible and registered to vote.\")\n",
    "    else:\n",
    "        print(\"You are eligible but not registered to vote.\")\n",
    "else:\n",
    "    print(\"You are not eligible to vote.\")\n",
    "# Output: You are eligible and registered to vote.\n",
    "\"\"\"In this nested condition:\n",
    "\n",
    "The outer if checks if the person is at least 18.\n",
    "If True, a nested if checks if the person is registered.\n",
    "5. Using Logical Operators in Conditional Statements\n",
    "We can also use logical operators (and, or, not) within conditions to combine multiple conditions.\"\"\"\n",
    "\n",
    "age = 19\n",
    "has_id = True\n",
    "\n",
    "if age >= 18 and has_id:\n",
    "    print(\"You are eligible to enter.\")\n",
    "else:\n",
    "    print(\"You are not eligible to enter.\")\n",
    "# Output: You are eligible to enter.\n",
    "\"\"\"Here, the condition checks if the person is both 18 or older and has an ID. If both conditions are met, it executes the if block.\"\"\""
   ]
  },
  {
   "cell_type": "code",
   "execution_count": 24,
   "id": "cdd5b316-47f2-4d68-a2a2-7de42fdc2aa3",
   "metadata": {},
   "outputs": [],
   "source": [
    "#Q7. Describe the different types of loops in Python and their use cases with examples"
   ]
  },
  {
   "cell_type": "code",
   "execution_count": 25,
   "id": "62e6e058-71c6-48d7-950b-fe11e45290d5",
   "metadata": {},
   "outputs": [
    {
     "name": "stdout",
     "output_type": "stream",
     "text": [
      "apple\n",
      "banana\n",
      "cherry\n",
      "0\n",
      "1\n",
      "2\n",
      "0\n",
      "1\n",
      "2\n",
      "0\n",
      "1\n",
      "2\n",
      "0\n",
      "1\n",
      "3\n",
      "4\n"
     ]
    }
   ],
   "source": [
    "\"\"\"In Python, there are two main types of loops: for and while loops. Each has distinct uses and syntax suited to different situations.\n",
    "\n",
    "1. for Loop\n",
    "The for loop iterates over each element in a sequence (like a list, tuple, or string) or within a specified range.\n",
    "\n",
    "Use Case\n",
    "Ideal for iterating over elements in a collection or for a specific number of iterations.\"\"\"\n",
    "\n",
    "# Loop through a list of items\n",
    "fruits = [\"apple\", \"banana\", \"cherry\"]\n",
    "for fruit in fruits:\n",
    "    print(fruit)\n",
    "# Output:\n",
    "# apple\n",
    "# banana\n",
    "# cherry\n",
    "\n",
    "# Loop with range\n",
    "for i in range(3):  # Generates numbers 0, 1, 2\n",
    "    print(i)\n",
    "# Output:\n",
    "# 0\n",
    "# 1\n",
    "# 2\n",
    "\"\"\"2. while Loop\n",
    "The while loop repeats a block of code as long as a specified condition is true.\n",
    "\n",
    "Use Case\n",
    "Useful when the number of iterations isn’t known in advance and depends on a condition.\n",
    "Example\n",
    "# Count until a condition is met\"\"\"\n",
    "count = 0\n",
    "while count < 3:\n",
    "    print(count)\n",
    "    count += 1\n",
    "# Output:\n",
    "# 0\n",
    "# 1\n",
    "# 2\n",
    "\"\"\"Additional Controls in Loops\n",
    "break: Exits the loop immediately.\n",
    "continue: Skips the current iteration and moves to the next.\n",
    "Example of break and continue\"\"\"\n",
    "\n",
    "for i in range(5):\n",
    "    if i == 3:\n",
    "        break  # Stops the loop when i is 3\n",
    "    print(i)\n",
    "# Output: 0, 1, 2\n",
    "\n",
    "for i in range(5):\n",
    "    if i == 2:\n",
    "        continue  # Skips iteration when i is 2\n",
    "    print(i)\n",
    "# Output: 0, 1, 3, 4\"\"\""
   ]
  },
  {
   "cell_type": "code",
   "execution_count": null,
   "id": "3a38397f-f813-40a9-af44-7ed5fce194ac",
   "metadata": {},
   "outputs": [],
   "source": []
  }
 ],
 "metadata": {
  "kernelspec": {
   "display_name": "Python 3 (ipykernel)",
   "language": "python",
   "name": "python3"
  },
  "language_info": {
   "codemirror_mode": {
    "name": "ipython",
    "version": 3
   },
   "file_extension": ".py",
   "mimetype": "text/x-python",
   "name": "python",
   "nbconvert_exporter": "python",
   "pygments_lexer": "ipython3",
   "version": "3.11.5"
  }
 },
 "nbformat": 4,
 "nbformat_minor": 5
}
